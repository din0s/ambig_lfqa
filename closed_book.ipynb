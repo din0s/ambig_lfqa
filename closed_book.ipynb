{
 "cells": [
  {
   "cell_type": "code",
   "execution_count": null,
   "metadata": {},
   "outputs": [],
   "source": [
    "from datasets import load_dataset\n",
    "\n",
    "dataset = load_dataset(\"din0s/asqa\")\n",
    "\n",
    "sample = dataset['dev'][0]\n",
    "q = sample['ambiguous_question']"
   ]
  },
  {
   "cell_type": "code",
   "execution_count": null,
   "metadata": {},
   "outputs": [],
   "source": [
    "from transformers import AutoModelForSeq2SeqLM, AutoTokenizer\n",
    "\n",
    "tokenizer = AutoTokenizer.from_pretrained(\"google/t5-large-ssm-nq\")\n",
    "\n",
    "model = AutoModelForSeq2SeqLM.from_pretrained(\"google/t5-large-ssm-nq\")"
   ]
  },
  {
   "cell_type": "code",
   "execution_count": null,
   "metadata": {},
   "outputs": [],
   "source": [
    "input_ids = tokenizer.encode(q, return_tensors=\"pt\")\n",
    "gen_output = model.generate(input_ids, max_length=100, num_beams=5, early_stopping=True)\n",
    "\n",
    "print(q)\n",
    "tokenizer.decode(gen_output[0], skip_special_tokens=True)"
   ]
  }
 ],
 "metadata": {
  "kernelspec": {
   "display_name": "Python 3.9.13 ('ir2')",
   "language": "python",
   "name": "python3"
  },
  "language_info": {
   "codemirror_mode": {
    "name": "ipython",
    "version": 3
   },
   "file_extension": ".py",
   "mimetype": "text/x-python",
   "name": "python",
   "nbconvert_exporter": "python",
   "pygments_lexer": "ipython3",
   "version": "3.9.13"
  },
  "orig_nbformat": 4,
  "vscode": {
   "interpreter": {
    "hash": "f83c7595143636b35a5f77a06433ac9eaa33fe6a8b5b34a91d7249a4017120e3"
   }
  }
 },
 "nbformat": 4,
 "nbformat_minor": 2
}
