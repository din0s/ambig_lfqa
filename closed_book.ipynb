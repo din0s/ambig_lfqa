{
 "cells": [
  {
   "cell_type": "code",
   "execution_count": null,
   "metadata": {},
   "outputs": [],
   "source": [
    "from datasets import load_dataset\n",
    "\n",
    "dataset = load_dataset(\"din0s/asqa\")\n",
    "\n",
    "# print(dataset[\"dev\"][:4]['ambiguous_question'])\n",
    "# print(dataset['dev'][0]['sample_id'])"
   ]
  },
  {
   "cell_type": "code",
   "execution_count": null,
   "metadata": {},
   "outputs": [],
   "source": [
    "from transformers import AutoModelForSeq2SeqLM, T5TokenizerFast\n",
    "\n",
    "tokenizer = T5TokenizerFast.from_pretrained(\"google/t5-large-ssm-nq\")\n",
    "\n",
    "model = AutoModelForSeq2SeqLM.from_pretrained(\"google/t5-large-ssm-nq\")"
   ]
  },
  {
   "cell_type": "code",
   "execution_count": null,
   "metadata": {},
   "outputs": [],
   "source": [
    "BATCH_SIZE = 64\n",
    "t5_closed_book_dict = {}\n",
    "\n",
    "for i in range(0, len(dataset[\"dev\"]), BATCH_SIZE):\n",
    "\n",
    "    batch = dataset[\"dev\"][i:i+BATCH_SIZE]\n",
    "    questions = batch['ambiguous_question']\n",
    "    \n",
    "    inputs = tokenizer(questions, return_tensors=\"pt\", padding=True)\n",
    "    gen_outputs = model.generate(\n",
    "        inputs[\"input_ids\"], \n",
    "        attention_mask=inputs[\"attention_mask\"], \n",
    "        max_length=100, num_beams=5, \n",
    "        early_stopping=True)\n",
    "\n",
    "    answers = tokenizer.batch_decode(gen_outputs, skip_special_tokens=True)\n",
    "\n",
    "    id_ans_list = list(zip(batch['sample_id'], answers))\n",
    "    t5_closed_book_dict.update({str(sample_id) : ans for sample_id, ans in id_ans_list})\n",
    "    # print(t5_closed_book_dict)"
   ]
  },
  {
   "cell_type": "code",
   "execution_count": null,
   "metadata": {},
   "outputs": [],
   "source": [
    "import json\n",
    "with open('t5_closed_book_predictions.json', 'w') as fp:\n",
    "    json.dump(t5_closed_book_dict, fp)"
   ]
  }
 ],
 "metadata": {
  "kernelspec": {
   "display_name": "Python 3.9.13 ('ir2')",
   "language": "python",
   "name": "python3"
  },
  "language_info": {
   "codemirror_mode": {
    "name": "ipython",
    "version": 3
   },
   "file_extension": ".py",
   "mimetype": "text/x-python",
   "name": "python",
   "nbconvert_exporter": "python",
   "pygments_lexer": "ipython3",
   "version": "3.9.13"
  },
  "orig_nbformat": 4,
  "vscode": {
   "interpreter": {
    "hash": "b0e461ed7634304746d0b9e086c06a331048511f130eebac394163c37fd80203"
   }
  }
 },
 "nbformat": 4,
 "nbformat_minor": 2
}
