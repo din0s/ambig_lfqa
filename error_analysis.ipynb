{
 "cells": [
  {
   "cell_type": "code",
   "execution_count": null,
   "metadata": {},
   "outputs": [],
   "source": [
    "import json\n",
    "\n",
    "with open('t5_ft_closed_book_predictions.json') as f:\n",
    "    preds = json.load(f)"
   ]
  },
  {
   "cell_type": "code",
   "execution_count": null,
   "metadata": {},
   "outputs": [],
   "source": [
    "from datasets import load_dataset\n",
    "\n",
    "asqa = load_dataset('din0s/asqa', split='dev')"
   ]
  },
  {
   "cell_type": "code",
   "execution_count": null,
   "metadata": {},
   "outputs": [],
   "source": [
    "import itertools, nltk\n",
    "nltk.download('stopwords')\n",
    "stopwords = set(nltk.corpus.stopwords.words('english'))\n",
    "\n",
    "stats = {}\n",
    "for sample in asqa:\n",
    "    # lowercase model output\n",
    "    model_output = preds[sample['sample_id']].lower()\n",
    "    # remove stopwords\n",
    "    filtered_output = [w for w in model_output.split(\" \") if w not in stopwords]\n",
    "    # calculate unique words percentage\n",
    "    pct_unique = len(set(filtered_output)) / len(filtered_output)\n",
    "\n",
    "    # flatten gold answers into a single list\n",
    "    gold_answers = set(itertools.chain(*[p['short_answers'] for p in sample['qa_pairs']]))\n",
    "    # identify gold tokens that exist in the model output\n",
    "    gold_in_output = list(itertools.chain(*[g.split(\" \") for g in gold_answers if g.lower() in model_output]))\n",
    "    # calculate golden tokens percentage\n",
    "    pct_gold = len(gold_in_output) / len(filtered_output)\n",
    "\n",
    "    stats[sample['sample_id']] = {\n",
    "        'pct_unique': pct_unique,\n",
    "        'pct_gold': pct_gold,\n",
    "        'pct_gold_na': pct_gold if pct_gold > 0 else None,\n",
    "    }"
   ]
  },
  {
   "cell_type": "code",
   "execution_count": null,
   "metadata": {},
   "outputs": [],
   "source": [
    "import pandas as pd\n",
    "\n",
    "df = pd.DataFrame.from_dict(stats, orient='index')\n",
    "df.mean(axis=0) * 100"
   ]
  }
 ],
 "metadata": {
  "kernelspec": {
   "display_name": "Python 3.9.13 ('ir2')",
   "language": "python",
   "name": "python3"
  },
  "language_info": {
   "codemirror_mode": {
    "name": "ipython",
    "version": 3
   },
   "file_extension": ".py",
   "mimetype": "text/x-python",
   "name": "python",
   "nbconvert_exporter": "python",
   "pygments_lexer": "ipython3",
   "version": "3.9.13"
  },
  "orig_nbformat": 4,
  "vscode": {
   "interpreter": {
    "hash": "1095b90829bc8d89b741c0b04353564242fc2595c3349975c3d4449a8e247fea"
   }
  }
 },
 "nbformat": 4,
 "nbformat_minor": 2
}
