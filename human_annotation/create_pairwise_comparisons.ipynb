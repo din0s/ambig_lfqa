{
 "cells": [
  {
   "cell_type": "code",
   "execution_count": null,
   "metadata": {},
   "outputs": [],
   "source": [
    "import datasets\n",
    "import csv\n",
    "import json\n",
    "import numpy as np\n",
    "import random\n",
    "import itertools\n",
    "\n",
    "PREDICTIONS_PATH = \"../predictions\"\n",
    "MODEL_PAIRS = [\n",
    "    ('bart_base_asqa_dpr@3', 'bart_large_asqa_dpr@3'),\n",
    "    ('bart_large_asqa_dpr@3', 'bart_large_eli5_asqa_dpr@3'),\n",
    "    ('t5_base_asqa_dpr@3', 't5_base_msmarco_asqa_dpr@3'),\n",
    "    ('t5_base_asqa_dpr@3', 'bart_base_asqa_dpr@3'),\n",
    "    ('bart_large_asqa_bm25@3', 'bart_large_asqa_dpr@3'),\n",
    "    ('bart_large_asqa_bm25@1', 'bart_large_asqa_bm25@3'),\n",
    "    ('bart_large_asqa_bm25@3', 'bart_large_asqa_bm25@5'),\n",
    "    ('bart_large_asqa_dpr@1', 'bart_large_asqa_dpr@3'),\n",
    "    ('bart_large_asqa_dpr@3', 'bart_large_asqa_dpr@5'),\n",
    "    ('bart_large_eli5_asqa_dpr@3', 'reference'),\n",
    "    ('dpr@1', 'bart_base_asqa_dpr@1'),\n",
    "    ('dpr@1', 'bart_large_asqa_dpr@1'),\n",
    "]\n",
    "NUM_QUESTIONS = 4\n",
    "\n",
    "# Load the dataset\n",
    "with open('../dataset/ASQA.json', 'r') as f:\n",
    "    asqa_dataset = json.load(f)\n",
    "    asqa_dataset = asqa_dataset['dev']"
   ]
  },
  {
   "cell_type": "code",
   "execution_count": null,
   "metadata": {},
   "outputs": [],
   "source": [
    "def get_question_predictions(model, key):\n",
    "    if model == 'reference':\n",
    "        # Get long answer from ASQA dataset\n",
    "        return asqa_dataset[key]['annotations'][0]['long_answer']\n",
    "    \n",
    "    with open(f\"{PREDICTIONS_PATH}/{model}.json\") as f:\n",
    "        predictions = json.load(f)\n",
    "        return predictions[key]\n",
    "\n",
    "def get_random_question(model1, model2):\n",
    "    # Find question which predictions have at least one gold answer in them\n",
    "    random_question = np.random.choice(list(asqa_dataset.keys()), 1)[0]\n",
    "    \n",
    "    gold_answers = set(itertools.chain(*[p['short_answers'] for p in asqa_dataset[random_question]['qa_pairs']]))\n",
    "    prediction1 = get_question_predictions(model1, random_question)\n",
    "    prediction2 = get_question_predictions(model2, random_question)\n",
    "    gold_in_prediction1 = itertools.chain(*[g.split(\" \") for g in gold_answers if g.lower() in prediction1.lower()])\n",
    "    gold_in_prediction2 = itertools.chain(*[g.split(\" \") for g in gold_answers if g.lower() in prediction2.lower()])\n",
    "    \n",
    "    if len(list(gold_in_prediction1)) > 0 or len(list(gold_in_prediction2)) > 0:\n",
    "        asqa_dataset.pop(random_question)\n",
    "        return random_question, prediction1, prediction2\n",
    "    else:\n",
    "        return get_random_question(model1, model2)\n",
    "\n",
    "for (model1, model2) in MODEL_PAIRS:\n",
    "    with open(f\"./comparisons/{model1}_vs_{model2}_setup.tsv\", \"wt\", encoding='cp1252') as out_file:\n",
    "        # write to tsv file\n",
    "        tsv_writer = csv.writer(out_file, delimiter='\\t')\n",
    "        tsv_writer.writerow(['key', 'model1', 'model2', 'prediction1', 'prediction2'])\n",
    "        # select random questions from dataset\n",
    "        for i in range(NUM_QUESTIONS):\n",
    "            # shuffle models so they are in random order\n",
    "            model1_random = random.choice((model1, model2))\n",
    "            model2_random = model1 if model1_random == model2 else model2\n",
    "            sample_id, prediction1, prediction2 = get_random_question(model1_random, model2_random)\n",
    "            tsv_writer.writerow([sample_id, model1_random, model2_random, prediction1, prediction2])"
   ]
  },
  {
   "cell_type": "code",
   "execution_count": null,
   "metadata": {},
   "outputs": [],
   "source": [
    "import os\n",
    "\n",
    "#Make files ready for drive\n",
    "for file in os.listdir(\"./comparisons\"):\n",
    "    out_file = file.replace(\"_setup\", \"\")\n",
    "    os.system(f\"python preparation.py --asqa ../dataset/ASQA.json --setup ./comparisons/{file} --dst ./comparisons_rfd/{out_file}\")"
   ]
  }
 ],
 "metadata": {
  "kernelspec": {
   "display_name": "Python 3.9.13 ('ir2')",
   "language": "python",
   "name": "python3"
  },
  "language_info": {
   "codemirror_mode": {
    "name": "ipython",
    "version": 3
   },
   "file_extension": ".py",
   "mimetype": "text/x-python",
   "name": "python",
   "nbconvert_exporter": "python",
   "pygments_lexer": "ipython3",
   "version": "3.9.13"
  },
  "orig_nbformat": 4,
  "vscode": {
   "interpreter": {
    "hash": "b0e461ed7634304746d0b9e086c06a331048511f130eebac394163c37fd80203"
   }
  }
 },
 "nbformat": 4,
 "nbformat_minor": 2
}
