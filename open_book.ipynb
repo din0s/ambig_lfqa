{
 "cells": [
  {
   "cell_type": "code",
   "execution_count": null,
   "metadata": {},
   "outputs": [],
   "source": [
    "from datasets import load_dataset\n",
    "\n",
    "dataset = load_dataset(\"din0s/asqa\")\n",
    "\n",
    "sample = dataset['dev'][0]\n",
    "q = sample['ambiguous_question']"
   ]
  },
  {
   "cell_type": "code",
   "execution_count": null,
   "metadata": {},
   "outputs": [],
   "source": [
    "from transformers import AutoTokenizer, AutoModelWithLMHead\n",
    "\n",
    "tokenizer = AutoTokenizer.from_pretrained(\"t5-large\")\n",
    "\n",
    "model = AutoModelWithLMHead.from_pretrained(\"t5-large\")"
   ]
  },
  {
   "cell_type": "code",
   "execution_count": null,
   "metadata": {},
   "outputs": [],
   "source": [
    "c = \"<retrieve context>\""
   ]
  },
  {
   "cell_type": "code",
   "execution_count": null,
   "metadata": {},
   "outputs": [],
   "source": [
    "input_ids = tokenizer.encode(f\"question: {q} context: {c}\", return_tensors=\"pt\")\n",
    "gen_output = model.generate(input_ids, max_length=100, num_beams=5, early_stopping=True)\n",
    "\n",
    "print(q)\n",
    "print(c)\n",
    "tokenizer.decode(gen_output[0], skip_special_tokens=True)"
   ]
  }
 ],
 "metadata": {
  "kernelspec": {
   "display_name": "Python 3.9.13 ('ir2')",
   "language": "python",
   "name": "python3"
  },
  "language_info": {
   "name": "python",
   "version": "3.9.13"
  },
  "orig_nbformat": 4,
  "vscode": {
   "interpreter": {
    "hash": "f83c7595143636b35a5f77a06433ac9eaa33fe6a8b5b34a91d7249a4017120e3"
   }
  }
 },
 "nbformat": 4,
 "nbformat_minor": 2
}
